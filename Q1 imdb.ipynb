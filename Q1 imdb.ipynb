{
 "cells": [
  {
   "cell_type": "code",
   "execution_count": 1,
   "metadata": {},
   "outputs": [],
   "source": [
    "import numpy as np\n",
    "import pandas as pd\n",
    "\n",
    "train = pd.read_csv(\"hwk3_datasets/imdb-train.txt\",delimiter='\\t', dtype=str, header=None, names = ['Review','Score'])\n",
    "test = pd.read_csv(\"hwk3_datasets/imdb-test.txt\",delimiter='\\t', dtype = str, header=None, names = ['Review','Score'])\n",
    "val = pd.read_csv(\"hwk3_datasets/imdb-valid.txt\",delimiter='\\t', dtype = str, header = None, names = ['Review','Score'])\n",
    "import string\n",
    "transtab = str.maketrans('','', string.punctuation)\n",
    "for i,ex in enumerate(train['Review']):\n",
    "    train['Review'][i] = ex.translate(transtab)\n",
    "    train['Review'][i] = (train['Review'][i]).lower()\n",
    "for i,ex in enumerate(test['Review']):\n",
    "    test['Review'][i] = ex.translate(transtab) \n",
    "    test['Review'][i] = test['Review'][i].lower()\n",
    "for i,ex in enumerate(val['Review']):\n",
    "    val['Review'][i] = ex.translate(transtab) \n",
    "    val['Review'][i] = val['Review'][i].lower()\n",
    "\n",
    "train['Score']=train['Score'].astype(np.int32)\n",
    "test['Score']=test['Score'].astype(np.int32)\n",
    "val['Score']=val['Score'].astype(np.int32)\n",
    "\n",
    "from sklearn.feature_extraction.text import CountVectorizer\n",
    "vectorizer = CountVectorizer(max_features = 10000, binary=True)\n",
    "\n",
    "train_vectors = vectorizer.fit_transform(train['Review'])\n",
    "test_vectors = vectorizer.transform(test['Review'])\n",
    "val_vectors = vectorizer.transform(val['Review'])"
   ]
  },
  {
   "cell_type": "code",
   "execution_count": 2,
   "metadata": {},
   "outputs": [],
   "source": [
    "words = vectorizer.get_feature_names()\n",
    "freq = np.asarray(train_vectors.sum(axis=0))[0]\n",
    "with open(\"imdb-vocab.txt\",'w+') as f:\n",
    "    for i in range(10000):\n",
    "        f.write(f\"{words[i]}\\t{i}\\t{freq[i]}\\n\")"
   ]
  },
  {
   "cell_type": "code",
   "execution_count": 3,
   "metadata": {},
   "outputs": [],
   "source": [
    "vocab_dict = vectorizer.vocabulary_\n",
    "#Train\n",
    "with open(\"imdb-train.txt\",'w+') as f:\n",
    "    i = -1\n",
    "    for Review in train['Review']:\n",
    "        i += 1\n",
    "        paragraph = \"\"\n",
    "        words = Review.split()\n",
    "        for word in words:\n",
    "            s = vocab_dict.get(word,None) \n",
    "            if s is None:\n",
    "                continue\n",
    "            else:\n",
    "                paragraph += str(s)+ \" \"\n",
    "                \n",
    "        f.write(f\"{paragraph}\\t{train['Score'][i]}\\n\")\n",
    "\n",
    "#Validation\n",
    "with open(\"imdb-valid.txt\",'w+') as f:\n",
    "    i = -1\n",
    "    for review in val['Review']:\n",
    "        i+=1\n",
    "        paragraph = \"\"\n",
    "        words = review.split()\n",
    "        for word in words:\n",
    "            s = vocab_dict.get(word,None) \n",
    "            if s is None:\n",
    "                continue\n",
    "            else:\n",
    "                paragraph += str(s)+ \" \"\n",
    "                \n",
    "        f.write(f\"{paragraph}\\t{val['Score'][i]}\\n\") \n",
    "\n",
    "#Test\n",
    "with open(\"imdb-test.txt\",'w+') as f:\n",
    "    i = -1\n",
    "    for review in test['Review']:\n",
    "        i += 1\n",
    "        paragraph = \"\"\n",
    "        words = review.split()\n",
    "        for word in words:\n",
    "            s = vocab_dict.get(word,None)            \n",
    "            if s is None:\n",
    "                continue \n",
    "            else:\n",
    "                paragraph += str(s)+ \" \"\n",
    "                \n",
    "        f.write(f\"{paragraph}\\t{test['Score'][i]}\\n\") "
   ]
  },
  {
   "cell_type": "code",
   "execution_count": null,
   "metadata": {},
   "outputs": [],
   "source": []
  },
  {
   "cell_type": "code",
   "execution_count": null,
   "metadata": {},
   "outputs": [],
   "source": []
  }
 ],
 "metadata": {
  "kernelspec": {
   "display_name": "Python 3",
   "language": "python",
   "name": "python3"
  },
  "language_info": {
   "codemirror_mode": {
    "name": "ipython",
    "version": 3
   },
   "file_extension": ".py",
   "mimetype": "text/x-python",
   "name": "python",
   "nbconvert_exporter": "python",
   "pygments_lexer": "ipython3",
   "version": "3.7.0"
  }
 },
 "nbformat": 4,
 "nbformat_minor": 2
}
